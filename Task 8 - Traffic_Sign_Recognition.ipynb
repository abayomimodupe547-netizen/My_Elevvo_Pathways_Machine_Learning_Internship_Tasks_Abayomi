{
 "cells": [
  {
   "cell_type": "markdown",
   "metadata": {},
   "source": [
    "## \\# Traffic Sign Recognition with CNN (GTSRB Dataset)\n",
    "\n",
    "**Description:**  \n",
    "This notebook trains a deep learning model to classify traffic signs\n",
    "using the GTSRB dataset (or a synthetic fallback if data is not\n",
    "available).\n",
    "\n",
    "## Steps Covered:\n",
    "\n",
    "1.  Data Loading (GTSRB or Synthetic)\n",
    "2.  Image Preprocessing (Resizing, Normalization)\n",
    "3.  CNN Model Building (Keras)\n",
    "4.  Model Training and Evaluation\n",
    "5.  Performance Visualization (Accuracy, Loss, Confusion Matrix)\n",
    "\n",
    "------------------------------------------------------------------------"
   ],
   "id": "7a6e8b37-4ffd-43f9-8c1c-c46132650a86"
  }
 ],
 "nbformat": 4,
 "nbformat_minor": 5,
 "metadata": {}
}
